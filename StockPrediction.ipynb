{
 "cells": [
  {
   "cell_type": "markdown",
   "metadata": {},
   "source": [
    "### Stock Market Prediction And Forecasting Using Stacked LSTM"
   ]
  },
  {
   "cell_type": "code",
   "execution_count": 1,
   "metadata": {},
   "outputs": [],
   "source": [
    "### Keras and Tensorflow >2.0"
   ]
  },
  {
   "cell_type": "code",
   "execution_count": 1,
   "metadata": {},
   "outputs": [],
   "source": [
    "import pandas as pd\n",
    "import numpy as np"
   ]
  },
  {
   "cell_type": "code",
   "execution_count": 2,
   "metadata": {},
   "outputs": [],
   "source": [
    "url = \"https://raw.githubusercontent.com/mwitiderrick/stockprice/master/NSE-TATAGLOBAL.csv\""
   ]
  },
  {
   "cell_type": "code",
   "execution_count": 3,
   "metadata": {},
   "outputs": [],
   "source": [
    "df = pd.read_csv(url)"
   ]
  },
  {
   "cell_type": "code",
   "execution_count": 4,
   "metadata": {},
   "outputs": [
    {
     "name": "stdout",
     "output_type": "stream",
     "text": [
      "         Date    Open    High     Low    Last   Close  Total Trade Quantity  \\\n",
      "0  2018-09-28  234.05  235.95  230.20  233.50  233.75               3069914   \n",
      "1  2018-09-27  234.55  236.80  231.10  233.80  233.25               5082859   \n",
      "2  2018-09-26  240.00  240.00  232.50  235.00  234.25               2240909   \n",
      "3  2018-09-25  233.30  236.75  232.00  236.25  236.10               2349368   \n",
      "4  2018-09-24  233.55  239.20  230.75  234.00  233.30               3423509   \n",
      "\n",
      "   Turnover (Lacs)  \n",
      "0          7162.35  \n",
      "1         11859.95  \n",
      "2          5248.60  \n",
      "3          5503.90  \n",
      "4          7999.55  \n"
     ]
    }
   ],
   "source": [
    "print(df.head())"
   ]
  },
  {
   "cell_type": "code",
   "execution_count": 5,
   "metadata": {},
   "outputs": [],
   "source": [
    "df['Close'] = df['Close'].ffill()\n"
   ]
  },
  {
   "cell_type": "code",
   "execution_count": 6,
   "metadata": {},
   "outputs": [],
   "source": [
    "from sklearn.preprocessing import MinMaxScaler\n",
    "\n",
    "scaler = MinMaxScaler()\n",
    "df['Close'] = scaler.fit_transform(df['Close'].values.reshape(-1, 1))\n"
   ]
  },
  {
   "cell_type": "code",
   "execution_count": 7,
   "metadata": {},
   "outputs": [],
   "source": [
    "def create_sequences(data, sequence_length):\n",
    "    X, y = [], []\n",
    "    for i in range(len(data) - sequence_length):\n",
    "        X.append(data[i:i+sequence_length])\n",
    "        y.append(data[i+sequence_length])\n",
    "    return np.array(X), np.array(y)\n",
    "\n",
    "# Set the sequence length\n",
    "sequence_length = 10\n",
    "\n",
    "# Create sequences and labels\n",
    "X, y = create_sequences(df['Close'].values, sequence_length)\n"
   ]
  },
  {
   "cell_type": "code",
   "execution_count": 8,
   "metadata": {},
   "outputs": [],
   "source": [
    "from tensorflow.keras.models import Sequential\n",
    "from tensorflow.keras.layers import Dense\n",
    "from tensorflow.keras.layers import LSTM\n",
    "\n",
    "model=Sequential()\n",
    "model.add(LSTM(50,return_sequences=True,input_shape=(100,1)))\n",
    "model.add(LSTM(50,return_sequences=True))\n",
    "model.add(LSTM(50))\n",
    "model.add(Dense(1))\n",
    "model.compile(loss='mean_squared_error',optimizer='adam')\n"
   ]
  },
  {
   "cell_type": "code",
   "execution_count": 12,
   "metadata": {},
   "outputs": [],
   "source": [
    "import numpy as np\n",
    "\n",
    "# Reshape X_train to a 2D array with one feature\n",
    "X_train = df['Close'].values.reshape(-1, 1)\n",
    "\n",
    "# Now you can define your model\n",
    "model = Sequential()\n",
    "model.add(LSTM(units=50, activation='relu', return_sequences=True, input_shape=(X_train.shape[1], 1)))\n",
    "model.add(LSTM(units=50, activation='relu', return_sequences=False))\n",
    "model.add(Dense(units=1))\n",
    "\n",
    "# Compile the model\n",
    "model.compile(optimizer='adam', loss='mean_squared_error')\n"
   ]
  },
  {
   "cell_type": "code",
   "execution_count": 22,
   "metadata": {},
   "outputs": [
    {
     "name": "stdout",
     "output_type": "stream",
     "text": [
      "Epoch 1/100\n",
      "64/64 [==============================] - 13s 33ms/step - loss: 0.0742 - val_loss: 0.0323\n",
      "Epoch 2/100\n",
      "64/64 [==============================] - 1s 18ms/step - loss: 0.0229 - val_loss: 0.0161\n",
      "Epoch 3/100\n",
      "64/64 [==============================] - 1s 17ms/step - loss: 0.0094 - val_loss: 0.0036\n",
      "Epoch 4/100\n",
      "64/64 [==============================] - 1s 16ms/step - loss: 0.0015 - val_loss: 6.9997e-04\n",
      "Epoch 5/100\n",
      "64/64 [==============================] - 1s 18ms/step - loss: 6.2271e-04 - val_loss: 5.4892e-04\n",
      "Epoch 6/100\n",
      "64/64 [==============================] - 1s 18ms/step - loss: 4.8188e-04 - val_loss: 3.9450e-04\n",
      "Epoch 7/100\n",
      "64/64 [==============================] - 1s 19ms/step - loss: 3.1855e-04 - val_loss: 2.2519e-04\n",
      "Epoch 8/100\n",
      "64/64 [==============================] - 1s 22ms/step - loss: 1.6612e-04 - val_loss: 1.0813e-04\n",
      "Epoch 9/100\n",
      "64/64 [==============================] - 1s 18ms/step - loss: 8.3521e-05 - val_loss: 6.3433e-05\n",
      "Epoch 10/100\n",
      "64/64 [==============================] - 1s 21ms/step - loss: 5.5921e-05 - val_loss: 5.0973e-05\n",
      "Epoch 11/100\n",
      "64/64 [==============================] - 1s 16ms/step - loss: 4.8316e-05 - val_loss: 4.6600e-05\n",
      "Epoch 12/100\n",
      "64/64 [==============================] - 1s 22ms/step - loss: 4.2347e-05 - val_loss: 3.8008e-05\n",
      "Epoch 13/100\n",
      "64/64 [==============================] - 1s 17ms/step - loss: 3.7724e-05 - val_loss: 3.4395e-05\n",
      "Epoch 14/100\n",
      "64/64 [==============================] - 1s 16ms/step - loss: 3.2181e-05 - val_loss: 2.9655e-05\n",
      "Epoch 15/100\n",
      "64/64 [==============================] - 1s 16ms/step - loss: 2.8980e-05 - val_loss: 2.5948e-05\n",
      "Epoch 16/100\n",
      "64/64 [==============================] - 1s 16ms/step - loss: 2.4805e-05 - val_loss: 2.3330e-05\n",
      "Epoch 17/100\n",
      "64/64 [==============================] - 1s 17ms/step - loss: 2.1906e-05 - val_loss: 2.1129e-05\n",
      "Epoch 18/100\n",
      "64/64 [==============================] - 1s 16ms/step - loss: 1.9786e-05 - val_loss: 1.7917e-05\n",
      "Epoch 19/100\n",
      "64/64 [==============================] - 1s 17ms/step - loss: 1.8003e-05 - val_loss: 1.7006e-05\n",
      "Epoch 20/100\n",
      "64/64 [==============================] - 1s 16ms/step - loss: 1.6191e-05 - val_loss: 1.4523e-05\n",
      "Epoch 21/100\n",
      "64/64 [==============================] - 1s 17ms/step - loss: 1.3971e-05 - val_loss: 1.1642e-05\n",
      "Epoch 22/100\n",
      "64/64 [==============================] - 1s 18ms/step - loss: 1.1657e-05 - val_loss: 1.0785e-05\n",
      "Epoch 23/100\n",
      "64/64 [==============================] - 2s 26ms/step - loss: 1.0364e-05 - val_loss: 9.2951e-06\n",
      "Epoch 24/100\n",
      "64/64 [==============================] - 1s 22ms/step - loss: 9.4768e-06 - val_loss: 8.5137e-06\n",
      "Epoch 25/100\n",
      "64/64 [==============================] - 1s 21ms/step - loss: 8.5850e-06 - val_loss: 7.9424e-06\n",
      "Epoch 26/100\n",
      "64/64 [==============================] - 1s 16ms/step - loss: 7.5017e-06 - val_loss: 7.0553e-06\n",
      "Epoch 27/100\n",
      "64/64 [==============================] - 1s 16ms/step - loss: 7.3006e-06 - val_loss: 7.6051e-06\n",
      "Epoch 28/100\n",
      "64/64 [==============================] - 1s 16ms/step - loss: 6.2659e-06 - val_loss: 6.1400e-06\n",
      "Epoch 29/100\n",
      "64/64 [==============================] - 1s 16ms/step - loss: 5.7629e-06 - val_loss: 5.5136e-06\n",
      "Epoch 30/100\n",
      "64/64 [==============================] - 1s 16ms/step - loss: 4.9471e-06 - val_loss: 4.6244e-06\n",
      "Epoch 31/100\n",
      "64/64 [==============================] - 1s 19ms/step - loss: 4.4333e-06 - val_loss: 4.0595e-06\n",
      "Epoch 32/100\n",
      "64/64 [==============================] - 1s 21ms/step - loss: 4.1092e-06 - val_loss: 3.6648e-06\n",
      "Epoch 33/100\n",
      "64/64 [==============================] - 1s 17ms/step - loss: 3.6326e-06 - val_loss: 3.1340e-06\n",
      "Epoch 34/100\n",
      "64/64 [==============================] - 1s 16ms/step - loss: 3.1763e-06 - val_loss: 2.9255e-06\n",
      "Epoch 35/100\n",
      "64/64 [==============================] - 1s 18ms/step - loss: 3.1941e-06 - val_loss: 3.1749e-06\n",
      "Epoch 36/100\n",
      "64/64 [==============================] - 1s 20ms/step - loss: 2.8463e-06 - val_loss: 2.4431e-06\n",
      "Epoch 37/100\n",
      "64/64 [==============================] - 1s 17ms/step - loss: 2.4350e-06 - val_loss: 2.3805e-06\n",
      "Epoch 38/100\n",
      "64/64 [==============================] - 1s 16ms/step - loss: 2.2242e-06 - val_loss: 2.0673e-06\n",
      "Epoch 39/100\n",
      "64/64 [==============================] - 1s 17ms/step - loss: 2.0239e-06 - val_loss: 1.8062e-06\n",
      "Epoch 40/100\n",
      "64/64 [==============================] - 1s 17ms/step - loss: 1.9765e-06 - val_loss: 2.1544e-06\n",
      "Epoch 41/100\n",
      "64/64 [==============================] - 1s 18ms/step - loss: 1.7326e-06 - val_loss: 1.5274e-06\n",
      "Epoch 42/100\n",
      "64/64 [==============================] - 1s 18ms/step - loss: 1.5459e-06 - val_loss: 1.4193e-06\n",
      "Epoch 43/100\n",
      "64/64 [==============================] - 1s 16ms/step - loss: 1.5280e-06 - val_loss: 1.2949e-06\n",
      "Epoch 44/100\n",
      "64/64 [==============================] - 1s 17ms/step - loss: 1.3225e-06 - val_loss: 1.7936e-06\n",
      "Epoch 45/100\n",
      "64/64 [==============================] - 1s 16ms/step - loss: 1.2399e-06 - val_loss: 1.1606e-06\n",
      "Epoch 46/100\n",
      "64/64 [==============================] - 1s 16ms/step - loss: 1.2411e-06 - val_loss: 1.0626e-06\n",
      "Epoch 47/100\n",
      "64/64 [==============================] - 1s 21ms/step - loss: 1.1424e-06 - val_loss: 1.0212e-06\n",
      "Epoch 48/100\n",
      "64/64 [==============================] - 1s 20ms/step - loss: 9.7852e-07 - val_loss: 8.6701e-07\n",
      "Epoch 49/100\n",
      "64/64 [==============================] - 1s 17ms/step - loss: 1.0095e-06 - val_loss: 8.8536e-07\n",
      "Epoch 50/100\n",
      "64/64 [==============================] - 1s 17ms/step - loss: 8.2772e-07 - val_loss: 9.1720e-07\n",
      "Epoch 51/100\n",
      "64/64 [==============================] - 1s 17ms/step - loss: 8.7213e-07 - val_loss: 9.6187e-07\n",
      "Epoch 52/100\n",
      "64/64 [==============================] - 1s 16ms/step - loss: 7.7704e-07 - val_loss: 7.0909e-07\n",
      "Epoch 53/100\n",
      "64/64 [==============================] - 1s 21ms/step - loss: 7.1260e-07 - val_loss: 6.2394e-07\n",
      "Epoch 54/100\n",
      "64/64 [==============================] - 1s 17ms/step - loss: 7.4937e-07 - val_loss: 5.7097e-07\n",
      "Epoch 55/100\n",
      "64/64 [==============================] - 1s 22ms/step - loss: 5.7325e-07 - val_loss: 5.7015e-07\n",
      "Epoch 56/100\n",
      "64/64 [==============================] - 1s 18ms/step - loss: 5.6062e-07 - val_loss: 5.2322e-07\n",
      "Epoch 57/100\n",
      "64/64 [==============================] - 1s 23ms/step - loss: 6.1583e-07 - val_loss: 6.0380e-07\n",
      "Epoch 58/100\n",
      "64/64 [==============================] - 1s 19ms/step - loss: 5.6276e-07 - val_loss: 5.3854e-07\n",
      "Epoch 59/100\n",
      "64/64 [==============================] - 1s 17ms/step - loss: 5.4994e-07 - val_loss: 7.3424e-07\n",
      "Epoch 60/100\n",
      "64/64 [==============================] - 1s 21ms/step - loss: 4.6105e-07 - val_loss: 3.6258e-07\n",
      "Epoch 61/100\n",
      "64/64 [==============================] - 1s 19ms/step - loss: 3.8944e-07 - val_loss: 3.5198e-07\n",
      "Epoch 62/100\n",
      "64/64 [==============================] - 1s 19ms/step - loss: 3.6730e-07 - val_loss: 3.1033e-07\n",
      "Epoch 63/100\n",
      "64/64 [==============================] - 1s 17ms/step - loss: 3.4863e-07 - val_loss: 3.2379e-07\n",
      "Epoch 64/100\n",
      "64/64 [==============================] - 1s 16ms/step - loss: 4.0447e-07 - val_loss: 3.6967e-07\n",
      "Epoch 65/100\n",
      "64/64 [==============================] - 1s 16ms/step - loss: 3.7676e-07 - val_loss: 2.6991e-07\n",
      "Epoch 66/100\n",
      "64/64 [==============================] - 1s 20ms/step - loss: 3.1847e-07 - val_loss: 3.1456e-07\n",
      "Epoch 67/100\n",
      "64/64 [==============================] - 1s 16ms/step - loss: 3.3187e-07 - val_loss: 2.7741e-07\n",
      "Epoch 68/100\n",
      "64/64 [==============================] - 1s 16ms/step - loss: 3.0709e-07 - val_loss: 2.4769e-07\n",
      "Epoch 69/100\n",
      "64/64 [==============================] - 1s 17ms/step - loss: 3.1140e-07 - val_loss: 4.4009e-07\n",
      "Epoch 70/100\n",
      "64/64 [==============================] - 1s 16ms/step - loss: 2.9702e-07 - val_loss: 2.7975e-07\n",
      "Epoch 71/100\n",
      "64/64 [==============================] - 1s 17ms/step - loss: 3.1963e-07 - val_loss: 2.2283e-07\n",
      "Epoch 72/100\n",
      "64/64 [==============================] - 1s 19ms/step - loss: 2.1850e-07 - val_loss: 3.0279e-07\n",
      "Epoch 73/100\n",
      "64/64 [==============================] - 1s 16ms/step - loss: 2.0942e-07 - val_loss: 1.9538e-07\n",
      "Epoch 74/100\n",
      "64/64 [==============================] - 1s 17ms/step - loss: 2.1944e-07 - val_loss: 2.6828e-07\n",
      "Epoch 75/100\n",
      "64/64 [==============================] - 1s 17ms/step - loss: 2.2506e-07 - val_loss: 1.9826e-07\n",
      "Epoch 76/100\n",
      "64/64 [==============================] - 1s 18ms/step - loss: 2.1245e-07 - val_loss: 1.9193e-07\n",
      "Epoch 77/100\n",
      "64/64 [==============================] - 1s 21ms/step - loss: 2.1623e-07 - val_loss: 2.3975e-07\n",
      "Epoch 78/100\n",
      "64/64 [==============================] - 1s 20ms/step - loss: 2.2076e-07 - val_loss: 1.8116e-07\n",
      "Epoch 79/100\n",
      "64/64 [==============================] - 2s 29ms/step - loss: 1.8302e-07 - val_loss: 1.7451e-07\n",
      "Epoch 80/100\n",
      "64/64 [==============================] - 1s 22ms/step - loss: 1.7964e-07 - val_loss: 1.6633e-07\n",
      "Epoch 81/100\n",
      "64/64 [==============================] - 1s 19ms/step - loss: 1.7231e-07 - val_loss: 1.3737e-07\n",
      "Epoch 82/100\n",
      "64/64 [==============================] - 2s 26ms/step - loss: 1.8260e-07 - val_loss: 2.4303e-07\n",
      "Epoch 83/100\n",
      "64/64 [==============================] - 1s 21ms/step - loss: 1.9280e-07 - val_loss: 1.2754e-07\n",
      "Epoch 84/100\n",
      "64/64 [==============================] - 1s 20ms/step - loss: 1.4474e-07 - val_loss: 1.1760e-07\n",
      "Epoch 85/100\n",
      "64/64 [==============================] - 2s 25ms/step - loss: 1.2308e-07 - val_loss: 1.9805e-07\n",
      "Epoch 86/100\n",
      "64/64 [==============================] - 1s 19ms/step - loss: 1.6179e-07 - val_loss: 2.5813e-07\n",
      "Epoch 87/100\n",
      "64/64 [==============================] - 1s 19ms/step - loss: 1.4725e-07 - val_loss: 3.6498e-07\n",
      "Epoch 88/100\n",
      "64/64 [==============================] - 1s 21ms/step - loss: 1.5849e-07 - val_loss: 1.7593e-07\n",
      "Epoch 89/100\n",
      "64/64 [==============================] - 1s 23ms/step - loss: 1.8305e-07 - val_loss: 1.1564e-07\n",
      "Epoch 90/100\n",
      "64/64 [==============================] - 2s 24ms/step - loss: 1.4400e-07 - val_loss: 8.8765e-08\n",
      "Epoch 91/100\n",
      "64/64 [==============================] - 1s 21ms/step - loss: 1.1590e-07 - val_loss: 2.5795e-07\n",
      "Epoch 92/100\n",
      "64/64 [==============================] - 2s 26ms/step - loss: 1.2876e-07 - val_loss: 9.5542e-08\n",
      "Epoch 93/100\n",
      "64/64 [==============================] - 1s 17ms/step - loss: 1.4790e-07 - val_loss: 2.6517e-07\n",
      "Epoch 94/100\n",
      "64/64 [==============================] - 1s 16ms/step - loss: 1.3983e-07 - val_loss: 1.1194e-07\n",
      "Epoch 95/100\n",
      "64/64 [==============================] - 1s 18ms/step - loss: 1.7693e-07 - val_loss: 8.0403e-08\n",
      "Epoch 96/100\n",
      "64/64 [==============================] - 1s 18ms/step - loss: 1.5984e-07 - val_loss: 1.3482e-07\n",
      "Epoch 97/100\n",
      "64/64 [==============================] - 1s 17ms/step - loss: 1.2124e-07 - val_loss: 8.1083e-08\n",
      "Epoch 98/100\n",
      "64/64 [==============================] - 1s 19ms/step - loss: 1.0712e-07 - val_loss: 1.0144e-07\n",
      "Epoch 99/100\n",
      "64/64 [==============================] - 1s 18ms/step - loss: 1.5204e-07 - val_loss: 1.1774e-07\n",
      "Epoch 100/100\n",
      "64/64 [==============================] - 1s 18ms/step - loss: 1.7206e-07 - val_loss: 4.9698e-07\n"
     ]
    },
    {
     "data": {
      "text/plain": [
       "<keras.src.callbacks.History at 0x25b9f80ae50>"
      ]
     },
     "execution_count": 22,
     "metadata": {},
     "output_type": "execute_result"
    }
   ],
   "source": [
    "import numpy as np\n",
    "\n",
    "# Define your training and testing data\n",
    "X_train = df['Close'].values\n",
    "X_test = df['Close'].values\n",
    "\n",
    "# Reshape your data\n",
    "X_train = np.reshape(X_train, (X_train.shape[0], 1, 1))\n",
    "X_test = np.reshape(X_test, (X_test.shape[0], 1, 1))\n",
    "\n",
    "# Define your training and testing labels\n",
    "y_train = df['Close'].values\n",
    "y_test = df['Close'].values\n",
    "\n",
    "# Reshape your labels\n",
    "y_train = np.reshape(y_train, (y_train.shape[0], 1, 1))\n",
    "y_test = np.reshape(y_test, (y_test.shape[0], 1, 1))\n",
    "\n",
    "# Define the number of epochs for training\n",
    "num_epochs = 100  # You can adjust this number based on the convergence of the model\n",
    "\n",
    "# Define the batch size\n",
    "batch_size = 32  # You can adjust this value based on your preferences\n",
    "\n",
    "# Fit your model\n",
    "model.fit(X_train, y_train, validation_data=(X_test, y_test), epochs=num_epochs, batch_size=batch_size, verbose=1)\n"
   ]
  },
  {
   "cell_type": "code",
   "execution_count": 24,
   "metadata": {},
   "outputs": [
    {
     "name": "stdout",
     "output_type": "stream",
     "text": [
      "64/64 [==============================] - 1s 7ms/step\n",
      "Mean Absolute Error (MAE): 0.0006278074674003424\n",
      "Mean Squared Error (MSE): 4.969846412292533e-07\n",
      "Root Mean Squared Error (RMSE): 0.0007049713761772553\n"
     ]
    }
   ],
   "source": [
    "from sklearn.metrics import mean_absolute_error, mean_squared_error\n",
    "import numpy as np\n",
    "\n",
    "# Assuming you have already trained your model and obtained predictions\n",
    "y_pred = model.predict(X_test)\n",
    "\n",
    "# Flatten the y_test and y_pred arrays to match the expected shape\n",
    "y_test = y_test.flatten()\n",
    "y_pred = y_pred.flatten()\n",
    "\n",
    "# Calculate Mean Absolute Error (MAE)\n",
    "mae = mean_absolute_error(y_test, y_pred)\n",
    "print(f\"Mean Absolute Error (MAE): {mae}\")\n",
    "\n",
    "# Calculate Mean Squared Error (MSE)\n",
    "mse = mean_squared_error(y_test, y_pred)\n",
    "print(f\"Mean Squared Error (MSE): {mse}\")\n",
    "\n",
    "# Calculate Root Mean Squared Error (RMSE)\n",
    "rmse = np.sqrt(mse)\n",
    "print(f\"Root Mean Squared Error (RMSE): {rmse}\")\n"
   ]
  },
  {
   "cell_type": "code",
   "execution_count": 30,
   "metadata": {},
   "outputs": [
    {
     "name": "stdout",
     "output_type": "stream",
     "text": [
      "1/1 [==============================] - 5s 5s/step\n",
      "Predicted next day's stock price: 2539.699951171875\n"
     ]
    }
   ],
   "source": [
    "import numpy as np\n",
    "\n",
    "# Replace [1, 2, 3] with the most recent three days' closing prices\n",
    "recent_data = np.array([233.75, 233.25, 234.25])  # Replace with actual data\n",
    "\n",
    "# Reshape the data to match the input shape of your model\n",
    "recent_data = recent_data.reshape(1, -1, 1)\n",
    "\n",
    "# Use the model to make predictions\n",
    "predicted_price = model.predict(recent_data)\n",
    "\n",
    "# Print the predicted price\n",
    "print(f\"Predicted next day's stock price: {predicted_price[0, 0]}\")\n"
   ]
  },
  {
   "cell_type": "code",
   "execution_count": 32,
   "metadata": {},
   "outputs": [
    {
     "data": {
      "image/png": "[encoded data removed]",
      "text/plain": [
       "<Figure size 1200x600 with 1 Axes>"
      ]
     },
     "metadata": {},
     "output_type": "display_data"
    }
   ],
   "source": [
    "import matplotlib.pyplot as plt\n",
    "\n",
    "# Replace this with your actual data\n",
    "actual_prices = [233.75, 233.25, 234.25, 236.1, 233.3, 234.6, 234.9, 235.05, 236.6, 233.95, 222.65, 216, 222, 222.95, 221.05, 222.4, 223.7, 236.7, 234.3, 236]\n",
    "# Add some example predicted prices\n",
    "predicted_prices = [234.0, 233.5, 235.0, 235.8, 234.2, 235.7, 235.0, 235.2, 236.0, 234.8, 223.0, 218.5, 223.5, 224.0, 222.5, 223.8, 235.0, 235.0, 235.2, 236.5]\n",
    "\n",
    "# Create an array of days for the x-axis\n",
    "days = range(1, len(actual_prices) + 1)\n",
    "\n",
    "# Plot actual and predicted prices\n",
    "plt.figure(figsize=(12, 6))\n",
    "plt.plot(days, actual_prices, label=\"Actual Prices\", marker='o')\n",
    "plt.plot(days, predicted_prices, label=\"Predicted Prices\", marker='x')\n",
    "\n",
    "# Add labels and title\n",
    "plt.xlabel(\"Days\")\n",
    "plt.ylabel(\"Stock Price\")\n",
    "plt.title(\"Actual vs. Predicted Stock Prices\")\n",
    "plt.legend()\n",
    "\n",
    "# Show the plot\n",
    "plt.show()\n"
   ]
  },
  {
   "cell_type": "code",
   "execution_count": null,
   "metadata": {},
   "outputs": [],
   "source": []
  }
 ],
 "metadata": {
  "kernelspec": {
   "display_name": "Python 3 (ipykernel)",
   "language": "python",
   "name": "python3"
  },
  "language_info": {
   "codemirror_mode": {
    "name": "ipython",
    "version": 3
   },
   "file_extension": ".py",
   "mimetype": "text/x-python",
   "name": "python",
   "nbconvert_exporter": "python",
   "pygments_lexer": "ipython3",
   "version": "3.9.13"
  }
 },
 "nbformat": 4,
 "nbformat_minor": 4
}
